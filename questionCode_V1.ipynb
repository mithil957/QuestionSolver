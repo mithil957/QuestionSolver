{
 "cells": [
  {
   "cell_type": "code",
   "execution_count": 1,
   "metadata": {},
   "outputs": [],
   "source": [
    "import json\n",
    "import requests\n",
    "import pandas as pd"
   ]
  },
  {
   "cell_type": "code",
   "execution_count": 11,
   "metadata": {},
   "outputs": [],
   "source": [
    "import io\n",
    "import os"
   ]
  },
  {
   "cell_type": "code",
   "execution_count": 12,
   "metadata": {},
   "outputs": [],
   "source": [
    "from google.cloud import vision\n",
    "from google.cloud.vision import types\n",
    "#imports the google cloud lib."
   ]
  },
  {
   "cell_type": "code",
   "execution_count": 2,
   "metadata": {},
   "outputs": [],
   "source": [
    "cx = 'insert_engine_ID'\n",
    "key = 'insert_API_key'"
   ]
  },
  {
   "cell_type": "code",
   "execution_count": 20,
   "metadata": {},
   "outputs": [],
   "source": [
    "os.environ[\"GOOGLE_APPLICATION_CREDENTIALS\"]=\"insert_file_path_to_service_account_key\""
   ]
  },
  {
   "cell_type": "code",
   "execution_count": 3,
   "metadata": {},
   "outputs": [],
   "source": [
    "# hq - appends logical AND to added search terms \n",
    "# hl - sets user interface language\n",
    "# num - how many results to return\n",
    "# sort - sort expression to apply to results\n",
    "# start - index of first return"
   ]
  },
  {
   "cell_type": "code",
   "execution_count": 241,
   "metadata": {},
   "outputs": [],
   "source": [
    "def look_up(yourQuestion): \n",
    "    url = 'https://www.googleapis.com/customsearch/v1' #need to attach this url so it can connect it with google API\n",
    "    parameter = {'q':yourQuestion,'cx':cx,'key':key,} #dict of the question being asked, engine_ID, API_key(lets you use the API)\n",
    "    result_page = requests.request('GET',url,params= parameter) #sends a HTTP request to get search results  \n",
    "    results_json = json.loads(result_page.text) #loads the results into JSON format\n",
    "    \n",
    "    links = [item['link'] for item in results_json['items']] #list comprehension to turn all 'link' data into a list\n",
    "    df = pd.DataFrame(links, columns=['link']) #makes a Dataframe with the columns mapped to the 'links' list\n",
    "    df['title'] = [item['title'] for item in results_json['items']] #adds 'title' data to Dataframe\n",
    "    df['htmlSnippet'] = [item['htmlSnippet'] for item in results_json['items']] #adds 'htmlSnippet' data to Dataframe\n",
    "    \n",
    "    next_index = results_json['queries']['nextPage'][0]['startIndex'] \n",
    "    #sets the index at 10 so we get another 10 results, the reason why we change have to do this is b/c this method only returns\n",
    "    #10 results, there is another method below which returns any number of results \n",
    " \n",
    "    #---------------------------------------------------------------------------------------------------------------------------\n",
    "    \n",
    "    #code here is all the same as above but just with the data from the next 10 results(or data on the next page)\n",
    "    para1 = {'q':yourQuestion,'cx':cx,'key':key,'start':next_index} \n",
    "    \n",
    "    page1 = requests.request('GET',url,params= para1)\n",
    "    results1 = json.loads(page1.text)\n",
    "    \n",
    "    links1 = [item['link'] for item in results1['items']]\n",
    "    df1 = pd.DataFrame(links1, columns=['link'])\n",
    "    df1['title'] = [item['title'] for item in results1['items']]\n",
    "    df1['htmlSnippet'] = [item['htmlSnippet'] for item in results1['items']]\n",
    "    \n",
    "    data = pd.concat([df,df1],ignore_index=True) #merges the two dataframes \n",
    "    \n",
    "    \n",
    "    return data"
   ]
  },
  {
   "cell_type": "code",
   "execution_count": 242,
   "metadata": {},
   "outputs": [],
   "source": [
    "#another way of getting search results\n",
    "#source : https://stackoverflow.com/questions/41032472/how-to-query-an-advanced-search-with-google-customsearch-api\n",
    "\n",
    "from googleapiclient.discovery import build\n",
    "import pprint\n",
    "\n",
    "my_api_key = key\n",
    "my_cse_id = cx\n",
    "\n",
    "def google_search(search_term, api_key, cse_id, **kwargs):\n",
    "    service = build(\"customsearch\", \"v1\", developerKey=api_key)\n",
    "    res = service.cse().list(q=search_term, cx=cse_id, **kwargs).execute()\n",
    "    return res['items']\n",
    "\n",
    "results = google_search(\n",
    "    'stackoverflow site:en.wikipedia.org', my_api_key, my_cse_id, num=10)"
   ]
  },
  {
   "cell_type": "code",
   "execution_count": 158,
   "metadata": {},
   "outputs": [],
   "source": [
    "def detect_text(file_name):\n",
    "    #finds text in file\n",
    "    client = vision.ImageAnnotatorClient() #make a client\n",
    "    \n",
    "    with open(file_name,'rb') as image_file: #grabs the image givin the title\n",
    "        content = image_file.read()\n",
    "        \n",
    "    image = types.Image(content = content) #loads image into memory\n",
    "    \n",
    "    response = client.text_detection(image = image)\n",
    "    texts = response.text_annotations\n",
    "    #prefroms text detection\n",
    "    \n",
    "    return texts[0].description.split('\\n')\n",
    "    #texts -> is returns a list, the frist index of the list contains\n",
    "    #description, which can split be based on the \\n, this yields \n",
    "    #the Question and the Answer choices "
   ]
  },
  {
   "cell_type": "code",
   "execution_count": 180,
   "metadata": {},
   "outputs": [],
   "source": [
    "def clean_up(text):\n",
    "    text = [x.lower() for x in text] #lower-cases the whole list\n",
    "    text = text[:-1] #gets rid of the last index, the last index contained '', which has no use\n",
    "    \n",
    "    \n",
    "    for x in text: #this loop is for finding out which indices does the question takes up\n",
    "        if '?' in x: #look for '?' in text[x]\n",
    "            index = text.index(x) + 1 #once it finds the first instance of a '?' then it breaks the loop\n",
    "            break\n",
    "    #There could be a flaw here, b/c if the question had another ? in it, then that messes up the code\n",
    "    \n",
    "    text[0:index] = [' '.join(text[0:index])] #join the all the indices up until the one with a '?' in it\n",
    "\n",
    "    return text"
   ]
  },
  {
   "cell_type": "code",
   "execution_count": 223,
   "metadata": {},
   "outputs": [],
   "source": [
    "def turn_into_search_string(question):#has to be question with 3 multiple choices, in a list\n",
    "    search_string = '{} AND ({} | {} | {})'.format(question[0],question[1],question[2],question[3])\n",
    "    return search_string"
   ]
  },
  {
   "cell_type": "code",
   "execution_count": 209,
   "metadata": {},
   "outputs": [],
   "source": [
    "#turns all the strings in the dataframe columns lowercase, making it lowercase helps with the search\n",
    "def turn_into_lower_case(df): \n",
    "    df['title'] = df['title'].apply(lambda x: x.lower()) \n",
    "    df['htmlSnippet'] = df['htmlSnippet'].apply(lambda x: x.lower())"
   ]
  },
  {
   "cell_type": "code",
   "execution_count": 215,
   "metadata": {},
   "outputs": [
    {
     "name": "stdout",
     "output_type": "stream",
     "text": [
      "18\n"
     ]
    }
   ],
   "source": [
    "#counts up all the instances where it found the answer choices, works only for three choices\n",
    "def count_answers(data,q):\n",
    "    a1 = data['title'].apply(lambda x: x.count(q[1])).sum() + data['htmlSnippet'].apply(lambda x: x.count(q[1])).sum()  \n",
    "    a2 = data['title'].apply(lambda x: x.count(q[2])).sum() + data['htmlSnippet'].apply(lambda x: x.count(q[2])).sum()\n",
    "    a3 = data['title'].apply(lambda x: x.count(q[3])).sum() + data['htmlSnippet'].apply(lambda x: x.count(q[3])).sum()\n",
    "    return [a1,a2,a3]"
   ]
  },
  {
   "cell_type": "code",
   "execution_count": 283,
   "metadata": {},
   "outputs": [],
   "source": [
    "#prints the question and frequency of the answer choices. Works only for three choices, so far. \n",
    "def print_count(count_list,q):\n",
    "    print('{}\\n{} : {} \\n{} : {}\\n{} : {}'.format(q[0],q[1],count_list[0],q[2],count_list[1],q[3],count_list[2]))"
   ]
  },
  {
   "cell_type": "code",
   "execution_count": 284,
   "metadata": {},
   "outputs": [],
   "source": [
    "def get_answer():\n",
    "    file_title = input() #asks for user input of the file\n",
    "    file_name = file_title + '.PNG' #adds a png to the end\n",
    "    question_list = detect_text(file_name) # finds text on it\n",
    "    question_list = clean_up(question_list) #cleans up the text list returned\n",
    "    searchable_string = turn_into_search_string(question_list) #turns question list into a search string\n",
    "    df = look_up(searchable_string) #searchs web and collects the data\n",
    "    turn_into_lower_case(df) #turns a part of the dataframe lowercase\n",
    "    count_of_choices = count_answers(df,question_list) #counts up the choices found and compiles them into a list\n",
    "    print_count(count_of_choices,question_list) #prints out the choice with the count number next to it\n",
    "    "
   ]
  },
  {
   "cell_type": "code",
   "execution_count": 285,
   "metadata": {},
   "outputs": [],
   "source": [
    "#same method as above but contains all the data, so user can mess around with it or something \n",
    "\n",
    "def get_answer_with_data():\n",
    "    file_title = input() #asks for user input of the file(name of file in local folder) or you change to specify certain PATH\n",
    "    file_name = file_title + '.PNG' #adds a png to the end, you can change to match whatever photo format you need\n",
    "    question_list = detect_text(file_name) # finds text on it\n",
    "    question_list = clean_up(question_list) #cleans up the text list returned\n",
    "    searchable_string = turn_into_search_string(question_list) #turns question list into a search string\n",
    "    df = look_up(searchable_string) #searchs web and collects the data\n",
    "    turn_into_lower_case(df) #turns a part of the dataframe lowercase\n",
    "    count_of_choices = count_answers(df,question_list) #counts up the choices found and compiles them into a list\n",
    "    print_count(count_of_choices,question_list) #prints out the choice with the count number next to it\n",
    "    return [file_name,question_list,searchable_string,df,count_of_choices]"
   ]
  },
  {
   "cell_type": "code",
   "execution_count": 286,
   "metadata": {},
   "outputs": [
    {
     "name": "stdout",
     "output_type": "stream",
     "text": [
      "q2\n",
      "what is the act of performing music in public places for tips?\n",
      "busking : 26 \n",
      "straw-capping : 0\n",
      "panhandling : 3\n"
     ]
    }
   ],
   "source": [
    "get_answer() #correct answer is Busking"
   ]
  },
  {
   "cell_type": "code",
   "execution_count": 287,
   "metadata": {},
   "outputs": [
    {
     "name": "stdout",
     "output_type": "stream",
     "text": [
      "q3\n",
      "which novel popularized the term \"avatar\" in the current sense?\n",
      "the player of games : 0 \n",
      "snow crash : 15\n",
      "neuromancer : 4\n"
     ]
    }
   ],
   "source": [
    "get_answer() #correct answer is Snow Crash"
   ]
  },
  {
   "cell_type": "code",
   "execution_count": 288,
   "metadata": {},
   "outputs": [
    {
     "name": "stdout",
     "output_type": "stream",
     "text": [
      "q11\n",
      "according to the u.s. government, which of tese is correct?\n",
      "daylight saving time : 29 \n",
      "daylight savings time : 7\n",
      "daylight saving's time : 0\n"
     ]
    }
   ],
   "source": [
    "get_answer() #correct answer is the first one \n",
    "#as you can see, the vision API isn't a 100% correct. Notice 'these' is spelled 'tese'"
   ]
  },
  {
   "cell_type": "code",
   "execution_count": 289,
   "metadata": {},
   "outputs": [
    {
     "name": "stdout",
     "output_type": "stream",
     "text": [
      "q12\n",
      "which of these cities has the biggest bike share program?\n",
      "paris : 0 \n",
      "amsterdam : 1\n",
      "new york : 21\n"
     ]
    }
   ],
   "source": [
    "get_answer() #correct answer is Paris, there is still room for LOTS of improvement"
   ]
  },
  {
   "cell_type": "code",
   "execution_count": 290,
   "metadata": {},
   "outputs": [
    {
     "name": "stdout",
     "output_type": "stream",
     "text": [
      "q1\n",
      "which of these bodies of water is the smallest?\n",
      "pond : 0 \n",
      "sea : 33\n",
      "ocean : 43\n"
     ]
    }
   ],
   "source": [
    "get_answer() #obs. correct answer is Pond, like I said room for LOTS of improvement"
   ]
  },
  {
   "cell_type": "code",
   "execution_count": 291,
   "metadata": {},
   "outputs": [
    {
     "name": "stdout",
     "output_type": "stream",
     "text": [
      "q13\n",
      "which of these robin williams movies is based on a novel?\n",
      "mrs. doubtfire : 4 \n",
      "dead poets society : 7\n",
      "good morning, vietnam : 1\n"
     ]
    }
   ],
   "source": [
    "get_answer() #correct answer is Mrs.Doubtfire"
   ]
  },
  {
   "cell_type": "code",
   "execution_count": 292,
   "metadata": {},
   "outputs": [
    {
     "name": "stdout",
     "output_type": "stream",
     "text": [
      "q10\n",
      "the asian delicacy known as bird's nest soup is made primarily from what?\n",
      "birds' nests : 0 \n",
      "fried noodles : 1\n",
      "shredded cabbage : 2\n"
     ]
    }
   ],
   "source": [
    "get_answer() #correct answer is birds' nests"
   ]
  },
  {
   "cell_type": "code",
   "execution_count": null,
   "metadata": {},
   "outputs": [],
   "source": []
  }
 ],
 "metadata": {
  "kernelspec": {
   "display_name": "Python 3",
   "language": "python",
   "name": "python3"
  },
  "language_info": {
   "codemirror_mode": {
    "name": "ipython",
    "version": 3
   },
   "file_extension": ".py",
   "mimetype": "text/x-python",
   "name": "python",
   "nbconvert_exporter": "python",
   "pygments_lexer": "ipython3",
   "version": "3.6.4"
  }
 },
 "nbformat": 4,
 "nbformat_minor": 2
}
